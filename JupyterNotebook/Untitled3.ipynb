{
 "cells": [
  {
   "cell_type": "code",
   "execution_count": 1,
   "id": "16e9440d-cc1e-4fd8-9c28-f098752c8f2c",
   "metadata": {},
   "outputs": [
    {
     "name": "stdout",
     "output_type": "stream",
     "text": []
    }
   ],
   "source": [
    "X Is Integer = 5."
   ]
  },
  {
   "cell_type": "code",
   "execution_count": null,
   "id": "150af541-63fe-4cda-8b5e-ff5eb10f7f71",
   "metadata": {},
   "outputs": [
    {
     "name": "stdout",
     "output_type": "stream",
     "text": [
      "5\n"
     ]
    }
   ],
   "source": [
    "Print 5."
   ]
  },
  {
   "cell_type": "code",
   "execution_count": 3,
   "id": "863eedba-83d2-4252-8aec-0fa9e064ee4f",
   "metadata": {},
   "outputs": [
    {
     "name": "stdout",
     "output_type": "stream",
     "text": [
      "9\n"
     ]
    }
   ],
   "source": []
  },
  {
   "cell_type": "code",
   "execution_count": 4,
   "id": "2347b50e-9a98-4a22-a841-621cfd313d20",
   "metadata": {},
   "outputs": [
    {
     "name": "stdout",
     "output_type": "stream",
     "text": [
      "47\n"
     ]
    }
   ],
   "source": []
  },
  {
   "cell_type": "code",
   "execution_count": null,
   "id": "2efa890c-9b93-44ca-a1d8-3e371e871b12",
   "metadata": {},
   "outputs": [],
   "source": []
  },
  {
   "cell_type": "code",
   "execution_count": null,
   "id": "7be004dc-6ad9-4dee-bb63-6fd5f7ec6efd",
   "metadata": {},
   "outputs": [],
   "source": []
  }
 ],
 "metadata": {
  "kernelspec": {
   "display_name": "My Language",
   "language": "mylang",
   "name": "customlang"
  },
  "language_info": {
   "file_extension": ".txt",
   "mimetype": "text/plain",
   "name": "mylang"
  }
 },
 "nbformat": 4,
 "nbformat_minor": 5
}
